{
 "cells": [
  {
   "cell_type": "markdown",
   "metadata": {},
   "source": [
    "# PT-JPL-SM Sensitivity Analysis with ECOv002 Cal-Val\n",
    "\n",
    "This notebook performs a sensitivity analysis of the PT-JPL-SM model using ECOSTRESS Collection 2 Cal-Val data. It loads input data, processes it through the PT-JPL-SM model, and visualizes the impact of input perturbations on latent heat flux. The notebook also generates figures for publication and explores the relationship between surface temperature and latent heat flux."
   ]
  },
  {
   "cell_type": "markdown",
   "metadata": {},
   "source": [
    "## Import Required Libraries and Functions\n",
    "\n",
    "This cell imports all necessary libraries and functions for data processing, model execution, statistical analysis, and plotting. It includes custom modules for the PT-JPL-SM model, sensitivity analysis, and net radiation calculations, as well as standard scientific Python libraries."
   ]
  },
  {
   "cell_type": "code",
   "execution_count": 1,
   "metadata": {},
   "outputs": [],
   "source": [
    "import sys\n",
    "import os\n",
    "sys.path.insert(0, os.path.abspath(os.path.join(os.path.dirname(\"__file__\"), '..')))"
   ]
  },
  {
   "cell_type": "code",
   "execution_count": 2,
   "metadata": {},
   "outputs": [
    {
     "ename": "ImportError",
     "evalue": "cannot import name 'calculate_daylight' from 'sun_angles' (/opt/homebrew/Caskroom/miniforge/base/envs/PTJPLSM/lib/python3.10/site-packages/sun_angles/__init__.py)",
     "output_type": "error",
     "traceback": [
      "\u001b[0;31m---------------------------------------------------------------------------\u001b[0m",
      "\u001b[0;31mImportError\u001b[0m                               Traceback (most recent call last)",
      "Cell \u001b[0;32mIn[2], line 7\u001b[0m\n\u001b[1;32m      5\u001b[0m \u001b[38;5;28;01mimport\u001b[39;00m\u001b[38;5;250m \u001b[39m\u001b[38;5;21;01mpandas\u001b[39;00m\u001b[38;5;250m \u001b[39m\u001b[38;5;28;01mas\u001b[39;00m\u001b[38;5;250m \u001b[39m\u001b[38;5;21;01mpd\u001b[39;00m\n\u001b[1;32m      6\u001b[0m \u001b[38;5;28;01mfrom\u001b[39;00m\u001b[38;5;250m \u001b[39m\u001b[38;5;21;01mverma_net_radiation\u001b[39;00m\u001b[38;5;250m \u001b[39m\u001b[38;5;28;01mimport\u001b[39;00m verma_net_radiation_table\n\u001b[0;32m----> 7\u001b[0m \u001b[38;5;28;01mfrom\u001b[39;00m\u001b[38;5;250m \u001b[39m\u001b[38;5;21;01mPTJPLSM\u001b[39;00m\u001b[38;5;250m \u001b[39m\u001b[38;5;28;01mimport\u001b[39;00m process_PTJPLSM_table, load_ECOv002_calval_PTJPLSM_inputs\n\u001b[1;32m      8\u001b[0m \u001b[38;5;28;01mfrom\u001b[39;00m\u001b[38;5;250m \u001b[39m\u001b[38;5;21;01mmonte_carlo_sensitivity\u001b[39;00m\u001b[38;5;250m \u001b[39m\u001b[38;5;28;01mimport\u001b[39;00m perturbed_run, sensitivity_analysis, divide_absolute_by_unperturbed\n\u001b[1;32m      9\u001b[0m \u001b[38;5;28;01mimport\u001b[39;00m\u001b[38;5;250m \u001b[39m\u001b[38;5;21;01mmatplotlib\u001b[39;00m\u001b[38;5;21;01m.\u001b[39;00m\u001b[38;5;21;01mpyplot\u001b[39;00m\u001b[38;5;250m \u001b[39m\u001b[38;5;28;01mas\u001b[39;00m\u001b[38;5;250m \u001b[39m\u001b[38;5;21;01mplt\u001b[39;00m\n",
      "File \u001b[0;32m~/Projects/PT-JPL-SM/PTJPLSM/__init__.py:1\u001b[0m\n\u001b[0;32m----> 1\u001b[0m \u001b[38;5;28;01mfrom\u001b[39;00m\u001b[38;5;250m \u001b[39m\u001b[38;5;21;01m.\u001b[39;00m\u001b[38;5;21;01mPTJPLSM\u001b[39;00m\u001b[38;5;250m \u001b[39m\u001b[38;5;28;01mimport\u001b[39;00m \u001b[38;5;241m*\u001b[39m\n\u001b[1;32m      3\u001b[0m \u001b[38;5;28;01mfrom\u001b[39;00m\u001b[38;5;250m \u001b[39m\u001b[38;5;21;01mos\u001b[39;00m\u001b[38;5;21;01m.\u001b[39;00m\u001b[38;5;21;01mpath\u001b[39;00m\u001b[38;5;250m \u001b[39m\u001b[38;5;28;01mimport\u001b[39;00m join, dirname, abspath\n\u001b[1;32m      5\u001b[0m \u001b[38;5;28;01mwith\u001b[39;00m \u001b[38;5;28mopen\u001b[39m(join(abspath(dirname(\u001b[38;5;18m__file__\u001b[39m)), \u001b[38;5;124m\"\u001b[39m\u001b[38;5;124mversion.txt\u001b[39m\u001b[38;5;124m\"\u001b[39m)) \u001b[38;5;28;01mas\u001b[39;00m f:\n",
      "File \u001b[0;32m~/Projects/PT-JPL-SM/PTJPLSM/PTJPLSM.py:1\u001b[0m\n\u001b[0;32m----> 1\u001b[0m \u001b[38;5;28;01mfrom\u001b[39;00m\u001b[38;5;250m \u001b[39m\u001b[38;5;21;01m.\u001b[39;00m\u001b[38;5;21;01mmodel\u001b[39;00m\u001b[38;5;250m \u001b[39m\u001b[38;5;28;01mimport\u001b[39;00m PTJPLSM\n\u001b[1;32m      2\u001b[0m \u001b[38;5;28;01mfrom\u001b[39;00m\u001b[38;5;250m \u001b[39m\u001b[38;5;21;01m.\u001b[39;00m\u001b[38;5;21;01mgenerate_PTJPLSM_inputs\u001b[39;00m\u001b[38;5;250m \u001b[39m\u001b[38;5;28;01mimport\u001b[39;00m generate_PTJPLSM_inputs\n\u001b[1;32m      3\u001b[0m \u001b[38;5;28;01mfrom\u001b[39;00m\u001b[38;5;250m \u001b[39m\u001b[38;5;21;01m.\u001b[39;00m\u001b[38;5;21;01mprocess_PTJPLSM_table\u001b[39;00m\u001b[38;5;250m \u001b[39m\u001b[38;5;28;01mimport\u001b[39;00m process_PTJPLSM_table\n",
      "File \u001b[0;32m~/Projects/PT-JPL-SM/PTJPLSM/model.py:63\u001b[0m\n\u001b[1;32m     60\u001b[0m \u001b[38;5;28;01mfrom\u001b[39;00m\u001b[38;5;250m \u001b[39m\u001b[38;5;21;01mPTJPL\u001b[39;00m\u001b[38;5;250m \u001b[39m\u001b[38;5;28;01mimport\u001b[39;00m verma_net_radiation\n\u001b[1;32m     61\u001b[0m \u001b[38;5;28;01mfrom\u001b[39;00m\u001b[38;5;250m \u001b[39m\u001b[38;5;21;01mPTJPL\u001b[39;00m\u001b[38;5;250m \u001b[39m\u001b[38;5;28;01mimport\u001b[39;00m calculate_SEBAL_soil_heat_flux\n\u001b[0;32m---> 63\u001b[0m \u001b[38;5;28;01mfrom\u001b[39;00m\u001b[38;5;250m \u001b[39m\u001b[38;5;21;01mdaily_evapotranspiration_upscaling\u001b[39;00m\u001b[38;5;250m \u001b[39m\u001b[38;5;28;01mimport\u001b[39;00m daily_ET_from_instantaneous\n\u001b[1;32m     65\u001b[0m \u001b[38;5;28;01mfrom\u001b[39;00m\u001b[38;5;250m \u001b[39m\u001b[38;5;21;01m.\u001b[39;00m\u001b[38;5;21;01mconstants\u001b[39;00m\u001b[38;5;250m \u001b[39m\u001b[38;5;28;01mimport\u001b[39;00m \u001b[38;5;241m*\u001b[39m\n\u001b[1;32m     66\u001b[0m \u001b[38;5;28;01mfrom\u001b[39;00m\u001b[38;5;250m \u001b[39m\u001b[38;5;21;01m.\u001b[39;00m\u001b[38;5;21;01mpartitioning\u001b[39;00m\u001b[38;5;250m \u001b[39m\u001b[38;5;28;01mimport\u001b[39;00m (\n\u001b[1;32m     67\u001b[0m     calculate_fREW, calculate_fTRM,\n\u001b[1;32m     68\u001b[0m     calculate_soil_latent_heat_flux, calculate_canopy_latent_heat_flux\n\u001b[1;32m     69\u001b[0m )\n",
      "File \u001b[0;32m/opt/homebrew/Caskroom/miniforge/base/envs/PTJPLSM/lib/python3.10/site-packages/daily_evapotranspiration_upscaling/__init__.py:1\u001b[0m\n\u001b[0;32m----> 1\u001b[0m \u001b[38;5;28;01mfrom\u001b[39;00m\u001b[38;5;250m \u001b[39m\u001b[38;5;21;01m.\u001b[39;00m\u001b[38;5;21;01mdaily_evapotranspiration_upscaling\u001b[39;00m\u001b[38;5;250m \u001b[39m\u001b[38;5;28;01mimport\u001b[39;00m \u001b[38;5;241m*\u001b[39m\n\u001b[1;32m      2\u001b[0m \u001b[38;5;28;01mfrom\u001b[39;00m\u001b[38;5;250m \u001b[39m\u001b[38;5;21;01m.\u001b[39;00m\u001b[38;5;21;01mversion\u001b[39;00m\u001b[38;5;250m \u001b[39m\u001b[38;5;28;01mimport\u001b[39;00m __version__\n",
      "File \u001b[0;32m/opt/homebrew/Caskroom/miniforge/base/envs/PTJPLSM/lib/python3.10/site-packages/daily_evapotranspiration_upscaling/daily_evapotranspiration_upscaling.py:3\u001b[0m\n\u001b[1;32m      1\u001b[0m \u001b[38;5;28;01mimport\u001b[39;00m\u001b[38;5;250m \u001b[39m\u001b[38;5;21;01mdatetime\u001b[39;00m\n\u001b[1;32m      2\u001b[0m \u001b[38;5;28;01mfrom\u001b[39;00m\u001b[38;5;250m \u001b[39m\u001b[38;5;21;01mtyping\u001b[39;00m\u001b[38;5;250m \u001b[39m\u001b[38;5;28;01mimport\u001b[39;00m Union\n\u001b[0;32m----> 3\u001b[0m \u001b[38;5;28;01mfrom\u001b[39;00m\u001b[38;5;250m \u001b[39m\u001b[38;5;21;01msun_angles\u001b[39;00m\u001b[38;5;250m \u001b[39m\u001b[38;5;28;01mimport\u001b[39;00m SHA_deg_from_DOY_lat, daylight_from_SHA, sunrise_from_SHA, calculate_daylight\n\u001b[1;32m      4\u001b[0m \u001b[38;5;28;01mfrom\u001b[39;00m\u001b[38;5;250m \u001b[39m\u001b[38;5;21;01mdateutil\u001b[39;00m\u001b[38;5;250m \u001b[39m\u001b[38;5;28;01mimport\u001b[39;00m parser\n\u001b[1;32m      5\u001b[0m \u001b[38;5;28;01mimport\u001b[39;00m\u001b[38;5;250m \u001b[39m\u001b[38;5;21;01mrasters\u001b[39;00m\u001b[38;5;250m \u001b[39m\u001b[38;5;28;01mas\u001b[39;00m\u001b[38;5;250m \u001b[39m\u001b[38;5;21;01mrt\u001b[39;00m\n",
      "\u001b[0;31mImportError\u001b[0m: cannot import name 'calculate_daylight' from 'sun_angles' (/opt/homebrew/Caskroom/miniforge/base/envs/PTJPLSM/lib/python3.10/site-packages/sun_angles/__init__.py)"
     ]
    }
   ],
   "source": [
    "from typing import Callable\n",
    "from os import makedirs\n",
    "from os.path import join\n",
    "import numpy as np\n",
    "import pandas as pd\n",
    "from verma_net_radiation import verma_net_radiation_table\n",
    "from PTJPLSM import process_PTJPLSM_table, load_ECOv002_calval_PTJPLSM_inputs\n",
    "from monte_carlo_sensitivity import perturbed_run, sensitivity_analysis, divide_absolute_by_unperturbed\n",
    "import matplotlib.pyplot as plt\n",
    "from scipy.stats import mstats\n",
    "import seaborn as sns\n",
    "from matplotlib.ticker import FuncFormatter"
   ]
  },
  {
   "cell_type": "markdown",
   "metadata": {},
   "source": [
    "## Set Normalization Function\n",
    "\n",
    "This cell assigns the normalization function used to compare perturbed model outputs to the unperturbed baseline. The function `divide_absolute_by_unperturbed` is used for normalization in the sensitivity analysis."
   ]
  },
  {
   "cell_type": "code",
   "execution_count": null,
   "metadata": {},
   "outputs": [],
   "source": [
    "normalization_function = divide_absolute_by_unperturbed"
   ]
  },
  {
   "cell_type": "markdown",
   "metadata": {},
   "source": [
    "## Load and Filter Input Data\n",
    "\n",
    "This cell loads the ECOSTRESS Cal-Val input data using a custom loader function and filters out rows where `fAPARmax` is zero. The resulting DataFrame is displayed for inspection."
   ]
  },
  {
   "cell_type": "code",
   "execution_count": null,
   "metadata": {},
   "outputs": [],
   "source": [
    "input_df = load_ECOv002_calval_PTJPLSM_inputs()\n",
    "input_df = input_df[input_df.fAPARmax != 0]\n",
    "input_df"
   ]
  },
  {
   "cell_type": "markdown",
   "metadata": {},
   "source": [
    "## Check Minimum fAPARmax Value\n",
    "\n",
    "This cell computes the minimum value of `fAPARmax` in the filtered input data to verify the filtering step and ensure no zero values remain."
   ]
  },
  {
   "cell_type": "code",
   "execution_count": null,
   "metadata": {},
   "outputs": [],
   "source": [
    "np.nanmin(input_df.fAPARmax)"
   ]
  },
  {
   "cell_type": "markdown",
   "metadata": {},
   "source": [
    "## Define Processing Function for Model Table\n",
    "\n",
    "This cell defines a helper function that processes the input DataFrame through the Verma net radiation calculation and then the PT-JPL-SM model. This function is used in later analysis steps."
   ]
  },
  {
   "cell_type": "code",
   "execution_count": null,
   "metadata": {},
   "outputs": [],
   "source": [
    "def process_verma_PTJPLSM_table(input_df: pd.DataFrame) -> pd.DataFrame:\n",
    "    return process_PTJPLSM_table(verma_net_radiation_table(input_df))"
   ]
  },
  {
   "cell_type": "markdown",
   "metadata": {},
   "source": [
    "## Process Input Data Through Model\n",
    "\n",
    "This cell applies the processing function to the filtered input data, running it through the Verma net radiation and PT-JPL-SM model, and displays the resulting DataFrame."
   ]
  },
  {
   "cell_type": "code",
   "execution_count": null,
   "metadata": {},
   "outputs": [],
   "source": [
    "processed = process_verma_PTJPLSM_table(input_df)\n",
    "processed"
   ]
  },
  {
   "cell_type": "markdown",
   "metadata": {},
   "source": [
    "## Plot Unperturbed Comparison of Surface Temperature to Latent Heat Flux\n",
    "\n",
    "This cell creates a scatter plot comparing ECOSTRESS surface temperature to PT-JPL-SM latent heat flux for the unperturbed data. The plot is saved as both JPEG and SVG files for publication or further analysis."
   ]
  },
  {
   "cell_type": "code",
   "execution_count": null,
   "metadata": {},
   "outputs": [],
   "source": [
    "plt.xticks(range(int(min(processed.ST_C)), int(max(processed.ST_C)) + 1, 5))\n",
    "plt.scatter(x=processed.ST_C, y=processed.LE, color='black', s=10, zorder=5)\n",
    "plt.grid(True, zorder=0)\n",
    "plt.xlabel(\"ECOSTRESS Surface Temperature (°C)\")\n",
    "plt.ylabel(\"PT-JPL-SM Latent Heat Flux (W/m$^2$)\")\n",
    "plt.title(\"Unperturbed Comparison\\nof ECOSTRESS Surface Temperature\\nto PT-JPL-SM Latent Heat Flux\")\n",
    "\n",
    "plt.savefig(\"Unperturbed Comparison of ECOSTRESS Surface Temperature to PT-JPL-SM Latent Heat Flux.jpeg\", format='jpeg', bbox_inches='tight')\n",
    "plt.savefig(\"Unperturbed Comparison of ECOSTRESS Surface Temperature to PT-JPL-SM Latent Heat Flux.svg\", format='svg', bbox_inches='tight')\n",
    "\n",
    "plt.show()"
   ]
  },
  {
   "cell_type": "markdown",
   "metadata": {},
   "source": [
    "## Further Filter Input Data and Check Temperature Range\n",
    "\n",
    "This cell applies additional filters to the input data, ensuring only valid `fAPARmax` and `NDVI` values are included. It also checks the minimum and maximum surface temperature values in the filtered dataset."
   ]
  },
  {
   "cell_type": "code",
   "execution_count": null,
   "metadata": {},
   "outputs": [],
   "source": [
    "# input_df = pd.read_csv(input_filename)\n",
    "input_df = load_ECOv002_calval_PTJPLSM_inputs()\n",
    "\n",
    "if \"Ta\" in input_df and \"Ta_C\" not in input_df:\n",
    "    # input_df.rename({\"Ta\": \"Ta_C\"}, inplace=True)\n",
    "    input_df[\"Ta_C\"] = input_df[\"Ta\"]\n",
    "\n",
    "input_df = input_df[input_df.fAPARmax.apply(lambda fAPARmax: fAPARmax > 0.001)]\n",
    "input_df = input_df[input_df.NDVI.apply(lambda NDVI: NDVI > 0.05)]\n",
    "\n",
    "np.nanmin(input_df.ST_C), np.nanmax(input_df.ST_C)"
   ]
  },
  {
   "cell_type": "markdown",
   "metadata": {},
   "source": [
    "## Check Number of Valid Input Rows\n",
    "\n",
    "This cell displays the number of rows remaining in the input DataFrame after all filtering steps, confirming the size of the dataset used for analysis."
   ]
  },
  {
   "cell_type": "code",
   "execution_count": null,
   "metadata": {},
   "outputs": [],
   "source": [
    "len(input_df)"
   ]
  },
  {
   "cell_type": "markdown",
   "metadata": {},
   "source": [
    "## Run Perturbed Model Analysis\n",
    "\n",
    "This cell sets up the input and output variables for the sensitivity analysis and runs the `perturbed_run` function, which perturbs the input variable and observes the effect on the output variable using the PT-JPL-SM model. The results are displayed for further analysis."
   ]
  },
  {
   "cell_type": "code",
   "execution_count": null,
   "metadata": {},
   "outputs": [],
   "source": [
    "input_variable = \"ST_C\"\n",
    "output_variable = \"LE\"\n",
    "\n",
    "results = perturbed_run(\n",
    "    input_df=input_df, \n",
    "    input_variable=input_variable, \n",
    "    output_variable=output_variable, \n",
    "    forward_process=process_verma_PTJPLSM_table,\n",
    "    normalization_function=normalization_function\n",
    ")\n",
    "\n",
    "results"
   ]
  },
  {
   "cell_type": "markdown",
   "metadata": {},
   "source": [
    "## Filter Out NaN Results\n",
    "\n",
    "This cell removes any rows with missing values from the perturbed results to ensure only valid data points are used in subsequent analysis and plotting."
   ]
  },
  {
   "cell_type": "code",
   "execution_count": null,
   "metadata": {},
   "outputs": [],
   "source": [
    "filtered_results = results.dropna()\n",
    "filtered_results"
   ]
  },
  {
   "cell_type": "markdown",
   "metadata": {},
   "source": [
    "## Plot Change in Surface Temperature vs Latent Heat Flux\n",
    "\n",
    "This cell generates a scatter plot showing the relationship between changes in surface temperature and changes in PT-JPL-SM latent heat flux due to input perturbations. The plot is saved as JPEG and SVG files."
   ]
  },
  {
   "cell_type": "code",
   "execution_count": null,
   "metadata": {},
   "outputs": [],
   "source": [
    "# plt.xticks(range(int(min(processed.ST_C)), int(max(processed.ST_C)) + 1, 5))\n",
    "# plt.ylim(-350, 150)\n",
    "plt.scatter(x=results.input_perturbation, y=results.output_perturbation, color='black', s=10, zorder=5)  # Adjust the 's' parameter to make dots thinner\n",
    "plt.grid(True, zorder=0)\n",
    "plt.xlabel(\"Change in Surface Temperature (°C)\")\n",
    "plt.ylabel(\"Change in PT-JPL-SM Latent Heat Flux (W/m$^2$)\")\n",
    "plt.title(\"Comparison of Change\\nin Surface Temperature\\nto PT-JPL-SM Latent Heat Flux\")\n",
    "\n",
    "plt.savefig(\"Comparison of Change in Surface Temperature to PT-JPL-SM Latent Heat Flux.jpeg\", format='jpeg', bbox_inches='tight')\n",
    "plt.savefig(\"Comparison of Change in Surface Temperature to PT-JPL-SM Latent Heat Flux.svg\", format='svg', bbox_inches='tight')\n",
    "\n",
    "plt.show()"
   ]
  },
  {
   "cell_type": "markdown",
   "metadata": {},
   "source": [
    "## Compute Correlation Between Input and Output Perturbations\n",
    "\n",
    "This cell calculates the Pearson correlation coefficient between the standardized input and output perturbations, quantifying the strength of their linear relationship."
   ]
  },
  {
   "cell_type": "code",
   "execution_count": null,
   "metadata": {},
   "outputs": [],
   "source": [
    "correlation = mstats.pearsonr(\n",
    "    np.array(filtered_results.input_perturbation_std).astype(np.float64), \n",
    "    np.array(filtered_results.output_perturbation_std).astype(np.float64)\n",
    ")[0]\n",
    "\n",
    "correlation"
   ]
  },
  {
   "cell_type": "markdown",
   "metadata": {},
   "source": [
    "## Run Full Sensitivity Analysis for Multiple Inputs\n",
    "\n",
    "This cell performs a comprehensive sensitivity analysis by perturbing several input variables (surface temperature, NDVI, albedo, air temperature, relative humidity) and measuring their effect on latent heat flux. The results are summarized in a DataFrame."
   ]
  },
  {
   "cell_type": "code",
   "execution_count": null,
   "metadata": {},
   "outputs": [],
   "source": [
    "input_variables = [\"ST_C\", \"NDVI\", \"albedo\", \"Ta_C\", \"RH\"]\n",
    "output_variables = [\"LE\"]\n",
    "\n",
    "perturbation_df, sensitivity_metrics_df = sensitivity_analysis(\n",
    "    input_df=input_df,\n",
    "    input_variables=input_variables,\n",
    "    output_variables=output_variables,\n",
    "    forward_process=process_verma_PTJPLSM_table,\n",
    "    normalization_function=normalization_function\n",
    ")\n",
    "\n",
    "sensitivity_metrics_df"
   ]
  },
  {
   "cell_type": "markdown",
   "metadata": {},
   "source": [
    "## Plot Sensitivity Magnitude Bar Chart\n",
    "\n",
    "This cell creates a bar chart showing the average percent change in latent heat flux for each input variable, visualizing the magnitude of model sensitivity to each input. The plot is saved as JPEG and SVG files with the PT-JPL-SM label."
   ]
  },
  {
   "cell_type": "code",
   "execution_count": null,
   "metadata": {},
   "outputs": [],
   "source": [
    "df = sensitivity_metrics_df\n",
    "df = df[(df.output_variable == \"LE\") & (df.metric == \"mean_normalized_change\")]\n",
    "ax = sns.barplot(x=df.input_variable, y=df.value * 100, color='black')\n",
    "ax.set_xticklabels([\"Surface\\nTemperature\", \"NDVI\", \"Albedo\", \"Air\\nTemperature\", \"Relative\\nHumidity\"])\n",
    "plt.xlabel(\"Input Variable\")\n",
    "plt.ylabel(\"Average Percent Change in Output Perturbation\")\n",
    "plt.title(\"PT-JPL-SM Latent Heat Flux Sensitivity Magnitude\")\n",
    "# plt.ylim(0, 160)  # Set y-axis range from 0 to 160\n",
    "plt.grid(axis='y', color='lightgray', linestyle='-', linewidth=0.5)  # Add light gray horizontal gridlines only\n",
    "\n",
    "# Add percent sign to y-axis tick labels\n",
    "ax.yaxis.set_major_formatter(FuncFormatter(lambda y, _: f'{int(y)}%'))\n",
    "\n",
    "plt.savefig(\"PT-JPL-SM Latent Heat Flux Sensitivity Magnitude.jpeg\", format='jpeg', bbox_inches='tight')\n",
    "plt.savefig(\"PT-JPL-SM Latent Heat Flux Sensitivity Magnitude.svg\", format='svg', bbox_inches='tight')\n",
    "\n",
    "plt.show()"
   ]
  },
  {
   "cell_type": "markdown",
   "metadata": {},
   "source": [
    "## Plot Sensitivity Correlation Bar Chart\n",
    "\n",
    "This cell generates a bar chart showing the correlation between input perturbations and output perturbations for each input variable, highlighting which inputs most strongly influence latent heat flux. The plot is saved as JPEG and SVG files with the PT-JPL-SM label."
   ]
  },
  {
   "cell_type": "code",
   "execution_count": null,
   "metadata": {},
   "outputs": [],
   "source": [
    "df = sensitivity_metrics_df\n",
    "df = df[(df.output_variable == \"LE\") & (df.metric == \"correlation\")]\n",
    "ax = sns.barplot(x=df.input_variable, y=df.value, color='black')\n",
    "ax.set_xticklabels([\"Surface\\nTemperature\", \"NDVI\", \"Albedo\", \"Air\\nTemperature\", \"Relative\\nHumidity\"])\n",
    "# plt.ylim(0, 0.8)\n",
    "plt.xlabel(\"Input Variable\")\n",
    "plt.ylabel(\"Correlation of Input Perturbation to Output Perturbation\")\n",
    "plt.title(\"PT-JPL-SM Latent Heat Flux Sensitivity Correlation\")\n",
    "plt.grid(axis='y')  # Add horizontal gridlines\n",
    "\n",
    "plt.savefig(\"PT-JPL-SM Latent Heat Flux Sensitivity Correlation.jpeg\", format='jpeg', bbox_inches='tight')\n",
    "plt.savefig(\"PT-JPL-SM Latent Heat Flux Sensitivity Correlation.svg\", format='svg', bbox_inches='tight')\n",
    "\n",
    "plt.show()"
   ]
  },
  {
   "cell_type": "markdown",
   "metadata": {},
   "source": [
    "## Summary and Next Steps\n",
    "\n",
    "This notebook demonstrated a full sensitivity analysis workflow for the PT-JPL-SM model using ECOSTRESS Cal-Val data. Key results include the identification of input variables with the greatest influence on latent heat flux. Next steps could include further exploration of model parameters, additional visualizations, or application to other datasets."
   ]
  }
 ],
 "metadata": {
  "kernelspec": {
   "display_name": "PTJPLSM",
   "language": "python",
   "name": "python3"
  },
  "language_info": {
   "codemirror_mode": {
    "name": "ipython",
    "version": 3
   },
   "file_extension": ".py",
   "mimetype": "text/x-python",
   "name": "python",
   "nbconvert_exporter": "python",
   "pygments_lexer": "ipython3",
   "version": "3.10.18"
  },
  "orig_nbformat": 4
 },
 "nbformat": 4,
 "nbformat_minor": 2
}
