{
 "cells": [
  {
   "cell_type": "code",
   "execution_count": null,
   "id": "d1471213",
   "metadata": {},
   "outputs": [],
   "source": [
    "import os\n",
    "import numpy as np\n",
    "import pandas as pd\n",
    "import geopandas as gpd\n",
    "import rasters as rt\n",
    "from rasters import MultiPoint\n",
    "from PTJPLSM import PTJPLSM, process_PTJPLSM_table\n",
    "from PTJPL import load_Topt, load_fAPARmax\n",
    "from soil_capacity_wilting import load_field_capacity\n",
    "from soil_capacity_wilting import load_wilting_point\n",
    "from gedi_canopy_height import load_canopy_height\n",
    "from ECOv002_calval_tables import load_combined_eco_flux_ec_filtered, load_metadata_ebc_filt, load_calval_table"
   ]
  },
  {
   "cell_type": "code",
   "execution_count": null,
   "id": "3f7e562f",
   "metadata": {},
   "outputs": [],
   "source": [
    "repo_root = os.path.dirname(os.getcwd())\n",
    "package_dir = os.path.join(repo_root, 'PTJPLSM')\n",
    "generated_input_table_filename = os.path.join(package_dir, \"ECOv002-cal-val-PT-JPL-SM-inputs.csv\")\n",
    "generated_output_table_filename = os.path.join(package_dir, \"ECOv002-cal-val-PT-JPL-SM-outputs.csv\")"
   ]
  },
  {
   "cell_type": "code",
   "execution_count": null,
   "id": "c496d6e1",
   "metadata": {},
   "outputs": [],
   "source": [
    "model_inputs_gdf = load_calval_table()\n",
    "model_inputs_gdf"
   ]
  },
  {
   "cell_type": "code",
   "execution_count": null,
   "id": "b71a3fd2",
   "metadata": {},
   "outputs": [],
   "source": [
    "# extract array of x and array of y coordinates from data frame geometry\n",
    "x_coords = model_inputs_gdf.geometry.x\n",
    "y_coords = model_inputs_gdf.geometry.y\n",
    "tower_points = MultiPoint(x=x_coords, y=y_coords)\n",
    "tower_points"
   ]
  },
  {
   "cell_type": "code",
   "execution_count": null,
   "id": "098899eb",
   "metadata": {},
   "outputs": [],
   "source": [
    "Topt_C = load_Topt(geometry=tower_points)\n",
    "model_inputs_gdf[\"Topt_C\"] = Topt_C\n",
    "Topt_C"
   ]
  },
  {
   "cell_type": "code",
   "execution_count": null,
   "id": "95510344",
   "metadata": {},
   "outputs": [],
   "source": [
    "fAPARmax = load_fAPARmax(geometry=tower_points)\n",
    "model_inputs_gdf[\"fAPARmax\"] = fAPARmax\n",
    "fAPARmax"
   ]
  },
  {
   "cell_type": "code",
   "execution_count": null,
   "id": "9231f9fb",
   "metadata": {},
   "outputs": [],
   "source": [
    "canopy_height_meters = load_canopy_height(geometry=tower_points)\n",
    "model_inputs_gdf[\"canopy_height_meters\"] = canopy_height_meters\n",
    "canopy_height_meters"
   ]
  },
  {
   "cell_type": "code",
   "execution_count": null,
   "id": "ced87d4a",
   "metadata": {},
   "outputs": [],
   "source": [
    "field_capacity = load_field_capacity(geometry=tower_points)\n",
    "model_inputs_gdf[\"field_capacity\"] = field_capacity\n",
    "field_capacity"
   ]
  },
  {
   "cell_type": "code",
   "execution_count": null,
   "id": "b962ec3c",
   "metadata": {},
   "outputs": [],
   "source": [
    "wilting_point = load_wilting_point(geometry=tower_points)\n",
    "model_inputs_gdf[\"wilting_point\"] = wilting_point\n",
    "wilting_point"
   ]
  },
  {
   "cell_type": "code",
   "execution_count": null,
   "id": "01db8624",
   "metadata": {},
   "outputs": [],
   "source": [
    "model_inputs_gdf"
   ]
  },
  {
   "cell_type": "code",
   "execution_count": null,
   "id": "458842e6",
   "metadata": {},
   "outputs": [],
   "source": [
    "model_inputs_gdf.keys()"
   ]
  },
  {
   "cell_type": "code",
   "execution_count": null,
   "id": "a46ee7bc",
   "metadata": {},
   "outputs": [],
   "source": [
    "model_inputs_gdf.albedo"
   ]
  },
  {
   "cell_type": "code",
   "execution_count": null,
   "id": "10671465",
   "metadata": {},
   "outputs": [],
   "source": [
    "results = process_PTJPLSM_table(model_inputs_gdf)\n",
    "results"
   ]
  },
  {
   "cell_type": "code",
   "execution_count": null,
   "id": "1fa80743",
   "metadata": {},
   "outputs": [],
   "source": [
    "model_inputs_gdf.to_csv(generated_input_table_filename, index=False)"
   ]
  },
  {
   "cell_type": "code",
   "execution_count": null,
   "id": "52d527e1",
   "metadata": {},
   "outputs": [],
   "source": [
    "results.to_csv(generated_output_table_filename, index=False)"
   ]
  },
  {
   "cell_type": "code",
   "execution_count": null,
   "id": "dc0329d5",
   "metadata": {},
   "outputs": [],
   "source": []
  }
 ],
 "metadata": {
  "kernelspec": {
   "display_name": "PTJPLSM",
   "language": "python",
   "name": "python3"
  },
  "language_info": {
   "codemirror_mode": {
    "name": "ipython",
    "version": 3
   },
   "file_extension": ".py",
   "mimetype": "text/x-python",
   "name": "python",
   "nbconvert_exporter": "python",
   "pygments_lexer": "ipython3",
   "version": "3.10.18"
  }
 },
 "nbformat": 4,
 "nbformat_minor": 5
}
