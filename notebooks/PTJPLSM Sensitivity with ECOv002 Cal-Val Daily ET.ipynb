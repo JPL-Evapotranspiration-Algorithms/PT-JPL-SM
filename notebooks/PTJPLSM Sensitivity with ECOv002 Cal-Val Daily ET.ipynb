{
 "cells": [
  {
   "cell_type": "markdown",
   "metadata": {},
   "source": [
    "# PT-JPL-SM Sensitivity Analysis with ECOv002 Cal-Val\n",
    "\n",
    "This notebook performs a sensitivity analysis of the PT-JPL-SM model using ECOSTRESS Collection 2 Cal-Val data. It loads input data, processes it through the PT-JPL-SM model, and visualizes the impact of input perturbations on latent heat flux. The notebook also generates figures for publication and explores the relationship between surface temperature and latent heat flux."
   ]
  },
  {
   "cell_type": "markdown",
   "metadata": {},
   "source": [
    "## Import Required Libraries and Functions\n",
    "\n",
    "This cell imports all necessary libraries and functions for data processing, model execution, statistical analysis, and plotting. It includes custom modules for the PT-JPL-SM model, sensitivity analysis, and net radiation calculations, as well as standard scientific Python libraries."
   ]
  },
  {
   "cell_type": "code",
   "execution_count": 1,
   "metadata": {},
   "outputs": [],
   "source": [
    "import sys\n",
    "import os\n",
    "sys.path.insert(0, os.path.abspath(os.path.join(os.path.dirname(\"__file__\"), '..')))"
   ]
  },
  {
   "cell_type": "code",
   "execution_count": null,
   "metadata": {},
   "outputs": [],
   "source": [
    "from typing import Callable\n",
    "from os import makedirs\n",
    "from os.path import join\n",
    "import numpy as np\n",
    "import pandas as pd\n",
    "from verma_net_radiation import verma_net_radiation_table\n",
    "from PTJPLSM import process_PTJPLSM_table, load_ECOv002_calval_PTJPLSM_inputs\n",
    "from monte_carlo_sensitivity import perturbed_run, sensitivity_analysis, divide_absolute_by_unperturbed\n",
    "import matplotlib.pyplot as plt\n",
    "from scipy.stats import mstats\n",
    "import seaborn as sns\n",
    "from matplotlib.ticker import FuncFormatter"
   ]
  },
  {
   "cell_type": "markdown",
   "metadata": {},
   "source": [
    "## Set Normalization Function\n",
    "\n",
    "This cell assigns the normalization function used to compare perturbed model outputs to the unperturbed baseline. The function `divide_absolute_by_unperturbed` is used for normalization in the sensitivity analysis."
   ]
  },
  {
   "cell_type": "code",
   "execution_count": null,
   "metadata": {},
   "outputs": [],
   "source": [
    "normalization_function = divide_absolute_by_unperturbed"
   ]
  },
  {
   "cell_type": "markdown",
   "metadata": {},
   "source": [
    "## Load and Filter Input Data\n",
    "\n",
    "This cell loads the ECOSTRESS Cal-Val input data using a custom loader function and filters out rows where `fAPARmax` is zero. The resulting DataFrame is displayed for inspection."
   ]
  },
  {
   "cell_type": "code",
   "execution_count": null,
   "metadata": {},
   "outputs": [],
   "source": [
    "input_df = load_ECOv002_calval_PTJPLSM_inputs()\n",
    "input_df = input_df[input_df.fAPARmax != 0]\n",
    "input_df"
   ]
  },
  {
   "cell_type": "markdown",
   "metadata": {},
   "source": [
    "## Check Minimum fAPARmax Value\n",
    "\n",
    "This cell computes the minimum value of `fAPARmax` in the filtered input data to verify the filtering step and ensure no zero values remain."
   ]
  },
  {
   "cell_type": "code",
   "execution_count": null,
   "metadata": {},
   "outputs": [],
   "source": [
    "np.nanmin(input_df.fAPARmax)"
   ]
  },
  {
   "cell_type": "markdown",
   "metadata": {},
   "source": [
    "## Define Processing Function for Model Table\n",
    "\n",
    "This cell defines a helper function that processes the input DataFrame through the Verma net radiation calculation and then the PT-JPL-SM model. This function is used in later analysis steps."
   ]
  },
  {
   "cell_type": "code",
   "execution_count": null,
   "metadata": {},
   "outputs": [],
   "source": [
    "def process_verma_PTJPLSM_table(input_df: pd.DataFrame) -> pd.DataFrame:\n",
    "    return process_PTJPLSM_table(verma_net_radiation_table(input_df), upscale_to_daily=True)"
   ]
  },
  {
   "cell_type": "markdown",
   "metadata": {},
   "source": [
    "## Process Input Data Through Model\n",
    "\n",
    "This cell applies the processing function to the filtered input data, running it through the Verma net radiation and PT-JPL-SM model, and displays the resulting DataFrame."
   ]
  },
  {
   "cell_type": "code",
   "execution_count": null,
   "metadata": {},
   "outputs": [],
   "source": [
    "processed = process_verma_PTJPLSM_table(input_df)\n",
    "processed"
   ]
  },
  {
   "cell_type": "code",
   "execution_count": null,
   "metadata": {},
   "outputs": [],
   "source": [
    "# import matplotlib.pyplot as plt\n",
    "# import matplotlib.lines as mlines\n",
    "# import numpy as np\n",
    "# from scipy.stats import linregress, pearsonr\n",
    "\n",
    "# colors = {\n",
    "#     'CRO': '#FFEC8B', 'CSH': '#AB82FF', 'CVM': '#8B814C', \n",
    "#     'DBF': '#98FB98', 'EBF': '#7FFF00', 'ENF': '#006400', \n",
    "#     'GRA': '#FFA54F', 'MF': '#8FBC8F', 'OSH': '#FFE4E1', \n",
    "#     'SAV': '#FFD700', 'WAT': '#98F5FF', 'WET': '#4169E1', \n",
    "#     'WSA': '#CDAA7D'\n",
    "# }\n",
    "\n",
    "# one2one = np.arange(-250, 1200, 5)\n",
    "\n",
    "# # Use the processed DataFrame for plotting\n",
    "# df = processed.copy()\n",
    "# mean_LE = df['ETcorr50daily'].mean()\n",
    "\n",
    "# # New y positions for the text to shift it down\n",
    "# x_pos = 0.05  # Position the text just inside the right edge of the plot\n",
    "# y_pos = [0.9, 0.85, 0.8, 0.75, 0.7]  # Different y positions for each line of text\n",
    "\n",
    "# # Function to calculate metrics using standard libraries\n",
    "# def calculate_metrics(y, x):\n",
    "#     # Remove NaNs for paired arrays\n",
    "#     mask = ~np.isnan(x) & ~np.isnan(y)\n",
    "#     x_valid = x[mask]\n",
    "#     y_valid = y[mask]\n",
    "#     n_points = len(x_valid)\n",
    "#     # RMSE\n",
    "#     rmse = np.sqrt(np.mean((y_valid - x_valid) ** 2)) if n_points > 0 else np.nan\n",
    "#     # R2\n",
    "#     r2 = pearsonr(y_valid, x_valid)[0] ** 2 if n_points > 1 else np.nan\n",
    "#     # Linear regression\n",
    "#     slope, intercept, _, _, _ = linregress(x_valid, y_valid) if n_points > 1 else (np.nan, np.nan, np.nan, np.nan, np.nan)\n",
    "#     # Bias\n",
    "#     bias = np.mean(y_valid - x_valid) if n_points > 0 else np.nan\n",
    "#     # Absolute bias\n",
    "#     abs_bias = np.mean(np.abs(y_valid - x_valid)) if n_points > 0 else np.nan\n",
    "#     return rmse, r2, slope, intercept, bias, n_points, abs_bias\n",
    "\n",
    "# # Function to plot PT-JPL subplot only\n",
    "# def plot_ptjpl_subplot(ax, x, y, title, metrics):\n",
    "#     rmse, r2, slope, intercept, bias, n_points, abs_bias = metrics\n",
    "#     scatter_colors = [colors.get(veg, 'gray') for veg in df['vegetation']] if 'vegetation' in df else 'black'\n",
    "#     ax.scatter(x, y, c=scatter_colors, marker='o', s=14, zorder=4)\n",
    "#     ax.set_title(title, fontsize=16)\n",
    "#     ax.set_ylim([-1, 12.5])\n",
    "#     ax.set_xlim([-1, 12.5])\n",
    "#     ax.set_ylabel('Model ET [mm day$^-$$^1$]', fontsize=14)\n",
    "#     ax.set_xlabel('Flux Tower ET [mm day$^-$$^1$]', fontsize=14)\n",
    "#     ax.plot(one2one, one2one, '--', c='k')\n",
    "#     ax.plot(one2one, one2one * slope + intercept, '--', c='gray')\n",
    "#     ax.text(x_pos, y_pos[0], f'y = {slope:.2f}x + {intercept:.2f}', transform=ax.transAxes, fontsize=12, color='black')\n",
    "#     ax.text(x_pos, y_pos[1], f'RMSE: {rmse:.2f} mm day$^-$$^1$', transform=ax.transAxes, fontsize=12, color='black')\n",
    "#     ax.text(x_pos, y_pos[2], f'bias: {bias:.2f} mm day$^-$$^1$', transform=ax.transAxes, fontsize=12, color='black')\n",
    "#     ax.text(x_pos, y_pos[3], f'R$^2$: {r2:.2f}', transform=ax.transAxes, fontsize=12, color='black')\n",
    "#     ax.text(x_pos, y_pos[4], f'N= {n_points}', transform=ax.transAxes, fontsize=12, color='black')\n",
    "#     ax.text(-0.1, 1.05, 'a)', transform=ax.transAxes, fontsize=16, fontweight='bold', va='top', ha='right')\n",
    "\n",
    "# # Prepare data and metrics for PT-JPL only\n",
    "# x20 = df['ETcorr50daily'].to_numpy()\n",
    "# metrics_pt_jpl = calculate_metrics(df['ETdaily_L3_ET_PT-JPL'].to_numpy(), x20)\n",
    "\n",
    "# # Set up the figure and single subplot\n",
    "# fig, ax = plt.subplots(figsize=(6, 6))\n",
    "# plot_ptjpl_subplot(ax, x20, df['ETdaily_L3_ET_PT-JPL'].to_numpy(), 'PT-JPL ET$_{daily}$ C1', metrics_pt_jpl)\n",
    "\n",
    "# # Create legend for vegetation types if available\n",
    "# if 'vegetation' in df and 'colors' in globals():\n",
    "#     scatter_handles = [mlines.Line2D([0], [0], marker='o', color='w', label=veg, markerfacecolor=color, markersize=8) \n",
    "#                        for veg, color in colors.items()]\n",
    "#     fig.legend(handles=scatter_handles, loc='lower center', bbox_to_anchor=(0.5, 0), ncol=7, title='Vegetation Type', fontsize=10)\n",
    "\n",
    "# plt.tight_layout()\n",
    "# fig.subplots_adjust(bottom=0.15)  # Increase the bottom margin to make room for the legend\n",
    "\n",
    "# print(f'PT-JPL bias = {metrics_pt_jpl[4]}')\n",
    "# print(f'PT-JPL abs bias = {metrics_pt_jpl[6]}')\n",
    "# print(f'PT-JPL n = {metrics_pt_jpl[5]}')"
   ]
  },
  {
   "cell_type": "markdown",
   "metadata": {},
   "source": [
    "## Plot Unperturbed Comparison of Surface Temperature to Latent Heat Flux\n",
    "\n",
    "This cell creates a scatter plot comparing ECOSTRESS surface temperature to PT-JPL-SM latent heat flux for the unperturbed data. The plot is saved as both JPEG and SVG files for publication or further analysis."
   ]
  },
  {
   "cell_type": "code",
   "execution_count": null,
   "metadata": {},
   "outputs": [],
   "source": [
    "plt.xticks(range(int(min(processed.ST_C)), int(max(processed.ST_C)) + 1, 5))\n",
    "plt.scatter(x=processed.ST_C, y=processed.ET_daily_kg, color='black', s=10, zorder=5)\n",
    "plt.grid(True, zorder=0)\n",
    "plt.xlabel(\"ECOSTRESS Surface Temperature (°C)\")\n",
    "plt.ylabel(\"PT-JPL-SM Daily ET (mm/day)\")\n",
    "plt.title(\"Unperturbed Comparison\\nof ECOSTRESS Surface Temperature\\nto PT-JPL-SM Evapotranspiration\")\n",
    "\n",
    "plt.savefig(\"Unperturbed Comparison of ECOSTRESS Surface Temperature to PT-JPL-SM Evapotranspiration.jpeg\", format='jpeg', bbox_inches='tight')\n",
    "plt.savefig(\"Unperturbed Comparison of ECOSTRESS Surface Temperature to PT-JPL-SM Evapotranspiration.svg\", format='svg', bbox_inches='tight')\n",
    "\n",
    "plt.show()"
   ]
  },
  {
   "cell_type": "markdown",
   "metadata": {},
   "source": [
    "## Further Filter Input Data and Check Temperature Range\n",
    "\n",
    "This cell applies additional filters to the input data, ensuring only valid `fAPARmax` and `NDVI` values are included. It also checks the minimum and maximum surface temperature values in the filtered dataset."
   ]
  },
  {
   "cell_type": "code",
   "execution_count": null,
   "metadata": {},
   "outputs": [],
   "source": [
    "# input_df = pd.read_csv(input_filename)\n",
    "input_df = load_ECOv002_calval_PTJPLSM_inputs()\n",
    "\n",
    "if \"Ta\" in input_df and \"Ta_C\" not in input_df:\n",
    "    # input_df.rename({\"Ta\": \"Ta_C\"}, inplace=True)\n",
    "    input_df[\"Ta_C\"] = input_df[\"Ta\"]\n",
    "\n",
    "input_df = input_df[input_df.fAPARmax.apply(lambda fAPARmax: fAPARmax > 0.001)]\n",
    "input_df = input_df[input_df.NDVI.apply(lambda NDVI: NDVI > 0.05)]\n",
    "\n",
    "np.nanmin(input_df.ST_C), np.nanmax(input_df.ST_C)"
   ]
  },
  {
   "cell_type": "markdown",
   "metadata": {},
   "source": [
    "## Check Number of Valid Input Rows\n",
    "\n",
    "This cell displays the number of rows remaining in the input DataFrame after all filtering steps, confirming the size of the dataset used for analysis."
   ]
  },
  {
   "cell_type": "code",
   "execution_count": null,
   "metadata": {},
   "outputs": [],
   "source": [
    "len(input_df)"
   ]
  },
  {
   "cell_type": "code",
   "execution_count": null,
   "metadata": {},
   "outputs": [],
   "source": [
    "input_df.columns"
   ]
  },
  {
   "cell_type": "code",
   "execution_count": null,
   "metadata": {},
   "outputs": [],
   "source": [
    "input_df[\"SWin_Wm2\"] = input_df[\"SW_IN\"]\n",
    "input_df[\"emissivity\"] = input_df[\"EmisWB\"]"
   ]
  },
  {
   "cell_type": "code",
   "execution_count": null,
   "metadata": {},
   "outputs": [],
   "source": [
    "# Ensure all relevant columns are numeric before sensitivity analysis\n",
    "for col in [\"albedo\", \"SWin_Wm2\", \"ST_C\", \"emissivity\", \"Ta_C\", \"RH\"]:\n",
    "    if col in input_df.columns:\n",
    "        input_df[col] = pd.to_numeric(input_df[col], errors=\"coerce\")\n",
    "# Drop rows with NaN in any relevant column\n",
    "input_df = input_df.dropna(subset=[\"albedo\", \"SWin_Wm2\", \"ST_C\", \"emissivity\", \"Ta_C\", \"RH\"])"
   ]
  },
  {
   "cell_type": "code",
   "execution_count": null,
   "metadata": {},
   "outputs": [],
   "source": [
    "input_df = input_df.dropna()\n",
    "input_df"
   ]
  },
  {
   "cell_type": "markdown",
   "metadata": {},
   "source": [
    "## Run Perturbed Model Analysis\n",
    "\n",
    "This cell sets up the input and output variables for the sensitivity analysis and runs the `perturbed_run` function, which perturbs the input variable and observes the effect on the output variable using the PT-JPL-SM model. The results are displayed for further analysis."
   ]
  },
  {
   "cell_type": "code",
   "execution_count": null,
   "metadata": {},
   "outputs": [],
   "source": [
    "input_variable = \"ST_C\"\n",
    "output_variable = \"ET_daily_kg\"\n",
    "\n",
    "results = perturbed_run(\n",
    "    input_df=input_df, \n",
    "    input_variable=input_variable, \n",
    "    output_variable=output_variable, \n",
    "    forward_process=process_verma_PTJPLSM_table,\n",
    "    normalization_function=normalization_function\n",
    ")\n",
    "\n",
    "results"
   ]
  },
  {
   "cell_type": "markdown",
   "metadata": {},
   "source": [
    "## Filter Out NaN Results\n",
    "\n",
    "This cell removes any rows with missing values from the perturbed results to ensure only valid data points are used in subsequent analysis and plotting."
   ]
  },
  {
   "cell_type": "code",
   "execution_count": null,
   "metadata": {},
   "outputs": [],
   "source": [
    "filtered_results = results.dropna()\n",
    "filtered_results"
   ]
  },
  {
   "cell_type": "markdown",
   "metadata": {},
   "source": [
    "## Plot Change in Surface Temperature vs Evapotranspiration\n",
    "\n",
    "This cell generates a scatter plot showing the relationship between changes in surface temperature and changes in PT-JPL-SM evapotranspiration due to input perturbations. The plot is saved as JPEG and SVG files."
   ]
  },
  {
   "cell_type": "code",
   "execution_count": null,
   "metadata": {},
   "outputs": [],
   "source": [
    "# plt.xticks(range(int(min(processed.ST_C)), int(max(processed.ST_C)) + 1, 5))\n",
    "# plt.ylim(-350, 150)\n",
    "plt.scatter(x=results.input_perturbation, y=results.output_perturbation, color='black', s=10, zorder=5)  # Adjust the 's' parameter to make dots thinner\n",
    "plt.grid(True, zorder=0)\n",
    "plt.xlabel(\"Change in Surface Temperature (°C)\")\n",
    "plt.ylabel(\"Change in PT-JPL-SM Evapotranspiration (mm/day)\")\n",
    "plt.title(\"Comparison of Change\\nin Surface Temperature\\nto PT-JPL-SM Evapotranspiration\")\n",
    "\n",
    "plt.savefig(\"Comparison of Change in Surface Temperature to PT-JPL-SM Evapotranspiration.jpeg\", format='jpeg', bbox_inches='tight')\n",
    "plt.savefig(\"Comparison of Change in Surface Temperature to PT-JPL-SM Evapotranspiration.svg\", format='svg', bbox_inches='tight')\n",
    "\n",
    "plt.show()"
   ]
  },
  {
   "cell_type": "markdown",
   "metadata": {},
   "source": [
    "## Compute Correlation Between Input and Output Perturbations\n",
    "\n",
    "This cell calculates the Pearson correlation coefficient between the standardized input and output perturbations, quantifying the strength of their linear relationship."
   ]
  },
  {
   "cell_type": "code",
   "execution_count": null,
   "metadata": {},
   "outputs": [],
   "source": [
    "correlation = mstats.pearsonr(\n",
    "    np.array(filtered_results.input_perturbation_std).astype(np.float64), \n",
    "    np.array(filtered_results.output_perturbation_std).astype(np.float64)\n",
    ")[0]\n",
    "\n",
    "correlation"
   ]
  },
  {
   "cell_type": "markdown",
   "metadata": {},
   "source": [
    "## Run Full Sensitivity Analysis for Multiple Inputs\n",
    "\n",
    "This cell performs a comprehensive sensitivity analysis by perturbing several input variables (surface temperature, NDVI, albedo, air temperature, relative humidity) and measuring their effect on latent heat flux. The results are summarized in a DataFrame."
   ]
  },
  {
   "cell_type": "code",
   "execution_count": null,
   "metadata": {},
   "outputs": [],
   "source": [
    "input_variables = [\"ST_C\", \"NDVI\", \"albedo\", \"Ta_C\", \"RH\"]\n",
    "output_variables = [\"ET_daily_kg\"]\n",
    "\n",
    "perturbation_df, sensitivity_metrics_df = sensitivity_analysis(\n",
    "    input_df=input_df,\n",
    "    input_variables=input_variables,\n",
    "    output_variables=output_variables,\n",
    "    forward_process=process_verma_PTJPLSM_table,\n",
    "    normalization_function=normalization_function\n",
    ")\n",
    "\n",
    "sensitivity_metrics_df"
   ]
  },
  {
   "cell_type": "markdown",
   "metadata": {},
   "source": [
    "## Plot Sensitivity Magnitude Bar Chart\n",
    "\n",
    "This cell creates a bar chart showing the average percent change in latent heat flux for each input variable, visualizing the magnitude of model sensitivity to each input. The plot is saved as JPEG and SVG files with the PT-JPL-SM label."
   ]
  },
  {
   "cell_type": "code",
   "execution_count": null,
   "metadata": {},
   "outputs": [],
   "source": [
    "df = sensitivity_metrics_df\n",
    "df = df[(df.output_variable == \"ET_daily_kg\") & (df.metric == \"mean_normalized_change\")]\n",
    "ax = sns.barplot(x=df.input_variable, y=df.value * 100, color='black')\n",
    "ax.set_xticklabels([\"Surface\\nTemperature\", \"NDVI\", \"Albedo\", \"Air\\nTemperature\", \"Relative\\nHumidity\"])\n",
    "plt.xlabel(\"Input Variable\")\n",
    "plt.ylabel(\"Average Percent Change in Output Perturbation\")\n",
    "plt.title(\"PT-JPL-SM Evapotranspiration Sensitivity Magnitude\")\n",
    "# plt.ylim(0, 160)  # Set y-axis range from 0 to 160\n",
    "plt.grid(axis='y', color='lightgray', linestyle='-', linewidth=0.5)  # Add light gray horizontal gridlines only\n",
    "\n",
    "# Add percent sign to y-axis tick labels\n",
    "ax.yaxis.set_major_formatter(FuncFormatter(lambda y, _: f'{int(y)}%'))\n",
    "\n",
    "plt.savefig(\"PT-JPL-SM Evapotranspiration Sensitivity Magnitude.jpeg\", format='jpeg', bbox_inches='tight')\n",
    "plt.savefig(\"PT-JPL-SM Evapotranspiration Sensitivity Magnitude.svg\", format='svg', bbox_inches='tight')\n",
    "\n",
    "plt.show()"
   ]
  },
  {
   "cell_type": "markdown",
   "metadata": {},
   "source": [
    "## Plot Sensitivity Correlation Bar Chart\n",
    "\n",
    "This cell generates a bar chart showing the correlation between input perturbations and output perturbations for each input variable, highlighting which inputs most strongly influence latent heat flux. The plot is saved as JPEG and SVG files with the PT-JPL-SM label."
   ]
  },
  {
   "cell_type": "code",
   "execution_count": null,
   "metadata": {},
   "outputs": [],
   "source": [
    "df = sensitivity_metrics_df\n",
    "df = df[(df.output_variable == \"ET_daily_kg\") & (df.metric == \"correlation\")]\n",
    "ax = sns.barplot(x=df.input_variable, y=df.value, color='black')\n",
    "ax.set_xticklabels([\"Surface\\nTemperature\", \"NDVI\", \"Albedo\", \"Air\\nTemperature\", \"Relative\\nHumidity\"])\n",
    "# plt.ylim(0, 0.8)\n",
    "plt.xlabel(\"Input Variable\")\n",
    "plt.ylabel(\"Correlation of Input Perturbation to Output Perturbation\")\n",
    "plt.title(\"PT-JPL-SM Latent Heat Flux Sensitivity Correlation\")\n",
    "plt.grid(axis='y')  # Add horizontal gridlines\n",
    "\n",
    "plt.savefig(\"PT-JPL-SM Latent Heat Flux Sensitivity Correlation.jpeg\", format='jpeg', bbox_inches='tight')\n",
    "plt.savefig(\"PT-JPL-SM Latent Heat Flux Sensitivity Correlation.svg\", format='svg', bbox_inches='tight')\n",
    "\n",
    "plt.show()"
   ]
  },
  {
   "cell_type": "markdown",
   "metadata": {},
   "source": [
    "## Summary and Next Steps\n",
    "\n",
    "This notebook demonstrated a full sensitivity analysis workflow for the PT-JPL-SM model using ECOSTRESS Cal-Val data. Key results include the identification of input variables with the greatest influence on latent heat flux. Next steps could include further exploration of model parameters, additional visualizations, or application to other datasets."
   ]
  }
 ],
 "metadata": {
  "kernelspec": {
   "display_name": "PTJPLSM",
   "language": "python",
   "name": "python3"
  },
  "language_info": {
   "codemirror_mode": {
    "name": "ipython",
    "version": 3
   },
   "file_extension": ".py",
   "mimetype": "text/x-python",
   "name": "python",
   "nbconvert_exporter": "python",
   "pygments_lexer": "ipython3",
   "version": "3.10.18"
  },
  "orig_nbformat": 4
 },
 "nbformat": 4,
 "nbformat_minor": 2
}
