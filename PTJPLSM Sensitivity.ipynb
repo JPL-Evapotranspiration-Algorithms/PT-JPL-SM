{
 "cells": [
  {
   "cell_type": "code",
   "execution_count": 1,
   "metadata": {},
   "outputs": [
    {
     "ename": "ModuleNotFoundError",
     "evalue": "No module named 'verma_net_radiation'",
     "output_type": "error",
     "traceback": [
      "\u001b[0;31m---------------------------------------------------------------------------\u001b[0m",
      "\u001b[0;31mModuleNotFoundError\u001b[0m                       Traceback (most recent call last)",
      "Cell \u001b[0;32mIn[1], line 6\u001b[0m\n\u001b[1;32m      4\u001b[0m \u001b[38;5;28;01mimport\u001b[39;00m\u001b[38;5;250m \u001b[39m\u001b[38;5;21;01mnumpy\u001b[39;00m\u001b[38;5;250m \u001b[39m\u001b[38;5;28;01mas\u001b[39;00m\u001b[38;5;250m \u001b[39m\u001b[38;5;21;01mnp\u001b[39;00m\n\u001b[1;32m      5\u001b[0m \u001b[38;5;28;01mimport\u001b[39;00m\u001b[38;5;250m \u001b[39m\u001b[38;5;21;01mpandas\u001b[39;00m\u001b[38;5;250m \u001b[39m\u001b[38;5;28;01mas\u001b[39;00m\u001b[38;5;250m \u001b[39m\u001b[38;5;21;01mpd\u001b[39;00m\n\u001b[0;32m----> 6\u001b[0m \u001b[38;5;28;01mfrom\u001b[39;00m\u001b[38;5;250m \u001b[39m\u001b[38;5;21;01mverma_net_radiation\u001b[39;00m\u001b[38;5;250m \u001b[39m\u001b[38;5;28;01mimport\u001b[39;00m process_verma_net_radiation_table\n\u001b[1;32m      7\u001b[0m \u001b[38;5;28;01mfrom\u001b[39;00m\u001b[38;5;250m \u001b[39m\u001b[38;5;21;01mPTJPLSM\u001b[39;00m\u001b[38;5;250m \u001b[39m\u001b[38;5;28;01mimport\u001b[39;00m process_PTJPLSM_table\n\u001b[1;32m      8\u001b[0m \u001b[38;5;28;01mfrom\u001b[39;00m\u001b[38;5;250m \u001b[39m\u001b[38;5;21;01mmonte_carlo_sensitivity\u001b[39;00m\u001b[38;5;250m \u001b[39m\u001b[38;5;28;01mimport\u001b[39;00m perturbed_run, sensitivity_analysis, divide_absolute_by_unperturbed\n",
      "\u001b[0;31mModuleNotFoundError\u001b[0m: No module named 'verma_net_radiation'"
     ]
    }
   ],
   "source": [
    "from typing import Callable\n",
    "from os import makedirs\n",
    "from os.path import join\n",
    "import numpy as np\n",
    "import pandas as pd\n",
    "from verma_net_radiation import process_verma_net_radiation_table\n",
    "from PTJPLSM import process_PTJPLSM_table\n",
    "from monte_carlo_sensitivity import perturbed_run, sensitivity_analysis, divide_absolute_by_unperturbed\n",
    "import matplotlib.pyplot as plt\n",
    "from scipy.stats import mstats\n",
    "import seaborn as sns\n",
    "from matplotlib.ticker import FuncFormatter"
   ]
  },
  {
   "cell_type": "code",
   "execution_count": null,
   "metadata": {},
   "outputs": [],
   "source": [
    "normalization_function = divide_absolute_by_unperturbed"
   ]
  },
  {
   "cell_type": "code",
   "execution_count": null,
   "metadata": {},
   "outputs": [],
   "source": [
    "input_df = pd.read_csv(\"calval_final_50_PTJPL_inputs.csv\")\n",
    "input_df = input_df[input_df.fAPARmax != 0]\n",
    "input_df"
   ]
  },
  {
   "cell_type": "code",
   "execution_count": null,
   "metadata": {},
   "outputs": [],
   "source": [
    "np.nanmin(input_df.fAPARmax)"
   ]
  },
  {
   "cell_type": "code",
   "execution_count": null,
   "metadata": {},
   "outputs": [],
   "source": [
    "def process_verma_PTJPLSM_table(input_df: pd.DataFrame) -> pd.DataFrame:\n",
    "    return process_PTJPLSM_table(process_verma_net_radiation_table(input_df))"
   ]
  },
  {
   "cell_type": "code",
   "execution_count": null,
   "metadata": {},
   "outputs": [],
   "source": [
    "processed = process_verma_PTJPLSM_table(input_df)\n",
    "processed"
   ]
  },
  {
   "cell_type": "code",
   "execution_count": null,
   "metadata": {},
   "outputs": [],
   "source": [
    "plt.xticks(range(int(min(processed.ST_C)), int(max(processed.ST_C)) + 1, 5))\n",
    "plt.scatter(x=processed.ST_C, y=processed.LE, color='black', s=10, zorder=5)\n",
    "plt.grid(True, zorder=0)\n",
    "plt.xlabel(\"ECOSTRESS Surface Temperature (°C)\")\n",
    "plt.ylabel(\"PT-JPL Latent Heat Flux (W/m$^2$)\")\n",
    "plt.title(\"Unperturbed Comparison\\nof ECOSTRESS Surface Temperature\\nto PT-JPL Latent Heat Flux\")\n",
    "\n",
    "plt.savefig(\"Unperturbed Comparison of ECOSTRESS Surface Temperature to PT-JPL Latent Heat Flux.jpeg\", format='jpeg', bbox_inches='tight')\n",
    "plt.savefig(\"Unperturbed Comparison of ECOSTRESS Surface Temperature to PT-JPL Latent Heat Flux.svg\", format='svg', bbox_inches='tight')\n",
    "\n",
    "plt.show()"
   ]
  },
  {
   "cell_type": "code",
   "execution_count": null,
   "metadata": {},
   "outputs": [],
   "source": [
    "input_df = pd.read_csv(\"calval_final_50_PTJPL_inputs.csv\")\n",
    "\n",
    "if \"Ta\" in input_df and \"Ta_C\" not in input_df:\n",
    "    # input_df.rename({\"Ta\": \"Ta_C\"}, inplace=True)\n",
    "    input_df[\"Ta_C\"] = input_df[\"Ta\"]\n",
    "\n",
    "input_df = input_df[input_df.fAPARmax.apply(lambda fAPARmax: fAPARmax > 0.001)]\n",
    "input_df = input_df[input_df.NDVI.apply(lambda NDVI: NDVI > 0.05)]\n",
    "\n",
    "np.nanmin(input_df.ST_C), np.nanmax(input_df.ST_C)"
   ]
  },
  {
   "cell_type": "code",
   "execution_count": null,
   "metadata": {},
   "outputs": [],
   "source": [
    "input_variable = \"ST_C\"\n",
    "output_variable = \"LE\"\n",
    "\n",
    "results = perturbed_run(\n",
    "    input_df=input_df, \n",
    "    input_variable=input_variable, \n",
    "    output_variable=output_variable, \n",
    "    forward_process=process_verma_PTJPLSM_table,\n",
    "    normalization_function=normalization_function\n",
    ")\n",
    "\n",
    "results"
   ]
  },
  {
   "cell_type": "code",
   "execution_count": null,
   "metadata": {},
   "outputs": [],
   "source": [
    "filtered_results = results.dropna()\n",
    "filtered_results"
   ]
  },
  {
   "cell_type": "code",
   "execution_count": null,
   "metadata": {},
   "outputs": [],
   "source": [
    "# plt.scatter(filtered_results.input_perturbation, filtered_results.output_perturbation)"
   ]
  },
  {
   "cell_type": "code",
   "execution_count": null,
   "metadata": {},
   "outputs": [],
   "source": [
    "# plt.xticks(range(int(min(processed.ST_C)), int(max(processed.ST_C)) + 1, 5))\n",
    "# plt.ylim(-350, 150)\n",
    "plt.scatter(x=results.input_perturbation, y=results.output_perturbation, color='black', s=10, zorder=5)  # Adjust the 's' parameter to make dots thinner\n",
    "plt.grid(True, zorder=0)\n",
    "plt.xlabel(\"Change in Surface Temperature (°C)\")\n",
    "plt.ylabel(\"Change in PT-JPL Latent Heat Flux (W/m$^2$)\")\n",
    "plt.title(\"Comparison of Change\\nin Surface Temperature\\nto PT-JPL Latent Heat Flux\")\n",
    "\n",
    "plt.savefig(\"Comparison of Change in Surface Temperature to PT-JPL Latent Heat Flux.jpeg\", format='jpeg', bbox_inches='tight')\n",
    "plt.savefig(\"Comparison of Change in Surface Temperature to PT-JPL Latent Heat Flux.svg\", format='svg', bbox_inches='tight')\n",
    "\n",
    "plt.show()"
   ]
  },
  {
   "cell_type": "code",
   "execution_count": null,
   "metadata": {},
   "outputs": [],
   "source": [
    "correlation = mstats.pearsonr(\n",
    "    np.array(filtered_results.input_perturbation_std).astype(np.float64), \n",
    "    np.array(filtered_results.output_perturbation_std).astype(np.float64)\n",
    ")[0]\n",
    "\n",
    "correlation"
   ]
  },
  {
   "cell_type": "code",
   "execution_count": null,
   "metadata": {},
   "outputs": [],
   "source": [
    "input_variables = [\"ST_C\", \"NDVI\", \"albedo\", \"Ta_C\", \"RH\"]\n",
    "output_variables = [\"LE\"]\n",
    "\n",
    "perturbation_df, sensitivity_metrics_df = sensitivity_analysis(\n",
    "    input_df=input_df,\n",
    "    input_variables=input_variables,\n",
    "    output_variables=output_variables,\n",
    "    forward_process=process_verma_PTJPLSM_table,\n",
    "    normalization_function=normalization_function\n",
    ")\n",
    "\n",
    "sensitivity_metrics_df"
   ]
  },
  {
   "cell_type": "code",
   "execution_count": null,
   "metadata": {},
   "outputs": [],
   "source": [
    "df = sensitivity_metrics_df\n",
    "df = df[(df.output_variable == \"LE\") & (df.metric == \"mean_normalized_change\")]\n",
    "ax = sns.barplot(x=df.input_variable, y=df.value * 100, color='black')\n",
    "ax.set_xticklabels([\"Surface\\nTemperature\", \"NDVI\", \"Albedo\", \"Air\\nTemperature\", \"Relative\\nHumidity\"])\n",
    "plt.xlabel(\"Input Variable\")\n",
    "plt.ylabel(\"Average Percent Change in Output Perturbation\")\n",
    "plt.title(\"PT-JPL Latent Heat Flux Sensitivity Magnitude\")\n",
    "# plt.ylim(0, 160)  # Set y-axis range from 0 to 160\n",
    "plt.grid(axis='y', color='lightgray', linestyle='-', linewidth=0.5)  # Add light gray horizontal gridlines only\n",
    "\n",
    "# Add percent sign to y-axis tick labels\n",
    "ax.yaxis.set_major_formatter(FuncFormatter(lambda y, _: f'{int(y)}%'))\n",
    "\n",
    "plt.savefig(\"PT-JPL Latent Heat Flux Sensitivity Magnitude.jpeg\", format='jpeg', bbox_inches='tight')\n",
    "plt.savefig(\"PT-JPL Latent Heat Flux Sensitivity Magnitude.svg\", format='svg', bbox_inches='tight')\n",
    "\n",
    "plt.show()"
   ]
  },
  {
   "cell_type": "code",
   "execution_count": null,
   "metadata": {},
   "outputs": [],
   "source": [
    "df = sensitivity_metrics_df\n",
    "df = df[(df.output_variable == \"LE\") & (df.metric == \"correlation\")]\n",
    "ax = sns.barplot(x=df.input_variable, y=df.value, color='black')\n",
    "ax.set_xticklabels([\"Surface\\nTemperature\", \"NDVI\", \"Albedo\", \"Air\\nTemperature\", \"Relative\\nHumidity\"])\n",
    "# plt.ylim(0, 0.8)\n",
    "plt.xlabel(\"Input Variable\")\n",
    "plt.ylabel(\"Correlation of Input Perturbation to Output Perturbation\")\n",
    "plt.title(\"PT-JPL Latent Heat Flux Sensitivity Correlation\")\n",
    "plt.grid(axis='y')  # Add horizontal gridlines\n",
    "\n",
    "plt.savefig(\"PT-JPL Latent Heat Flux Sensitivity Correlation.jpeg\", format='jpeg', bbox_inches='tight')\n",
    "plt.savefig(\"PT-JPL Latent Heat Flux Sensitivity Correlation.svg\", format='svg', bbox_inches='tight')\n",
    "\n",
    "plt.show()"
   ]
  },
  {
   "cell_type": "code",
   "execution_count": null,
   "metadata": {},
   "outputs": [],
   "source": []
  }
 ],
 "metadata": {
  "kernelspec": {
   "display_name": "PTJPLSM",
   "language": "python",
   "name": "python3"
  },
  "language_info": {
   "codemirror_mode": {
    "name": "ipython",
    "version": 3
   },
   "file_extension": ".py",
   "mimetype": "text/x-python",
   "name": "python",
   "nbconvert_exporter": "python",
   "pygments_lexer": "ipython3",
   "version": "3.10.16"
  },
  "orig_nbformat": 4
 },
 "nbformat": 4,
 "nbformat_minor": 2
}
